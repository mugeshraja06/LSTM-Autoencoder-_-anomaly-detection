{
  "nbformat": 4,
  "nbformat_minor": 0,
  "metadata": {
    "colab": {
      "name": "LSTM Autoencoder _ anomaly detection _Time Series",
      "provenance": [],
      "authorship_tag": "ABX9TyME1pg3Niy7vtvVQV1wcivW"
    },
    "kernelspec": {
      "name": "python3",
      "display_name": "Python 3"
    }
  },
  "cells": [
    {
      "cell_type": "markdown",
      "metadata": {
        "id": "PT_OC34BSVFd"
      },
      "source": [
        "Import Libaries"
      ]
    },
    {
      "cell_type": "code",
      "metadata": {
        "id": "YbErYIvasSxz"
      },
      "source": [
        "import numpy as np\r\n",
        "import pandas as pd\r\n",
        "from matplotlib import pyplot as plt\r\n",
        "import seaborn as sns\r\n",
        "import pandas_datareader as web\r\n",
        "\r\n",
        "from sklearn.preprocessing import MinMaxScaler, StandardScaler"
      ],
      "execution_count": 2,
      "outputs": []
    },
    {
      "cell_type": "code",
      "metadata": {
        "id": "XxfXG2cgS_SL"
      },
      "source": [
        "import tensorflow\r\n",
        "\r\n",
        "from tensorflow.keras.models import Model, Sequential\r\n",
        "from tensorflow.keras.layers import Dense, LSTM, Input, Dropout, RepeatVector, TimeDistributed \r\n",
        "from tensorflow.keras.callbacks import  EarlyStopping, ReduceLROnPlateau"
      ],
      "execution_count": 41,
      "outputs": []
    },
    {
      "cell_type": "markdown",
      "metadata": {
        "id": "_7pEoe47TnQk"
      },
      "source": [
        "Load The Data"
      ]
    },
    {
      "cell_type": "code",
      "metadata": {
        "colab": {
          "base_uri": "https://localhost:8080/",
          "height": 235
        },
        "id": "6fCrmefzS_T6",
        "outputId": "df2f362d-9979-44cf-abfc-641f736337f7"
      },
      "source": [
        "df =web.DataReader(\"GE\", data_source=\"yahoo\", start=\"2000-01-01\", end=\"2020-12-01\")\r\n",
        "df.head()"
      ],
      "execution_count": 12,
      "outputs": [
        {
          "output_type": "execute_result",
          "data": {
            "text/html": [
              "<div>\n",
              "<style scoped>\n",
              "    .dataframe tbody tr th:only-of-type {\n",
              "        vertical-align: middle;\n",
              "    }\n",
              "\n",
              "    .dataframe tbody tr th {\n",
              "        vertical-align: top;\n",
              "    }\n",
              "\n",
              "    .dataframe thead th {\n",
              "        text-align: right;\n",
              "    }\n",
              "</style>\n",
              "<table border=\"1\" class=\"dataframe\">\n",
              "  <thead>\n",
              "    <tr style=\"text-align: right;\">\n",
              "      <th></th>\n",
              "      <th>High</th>\n",
              "      <th>Low</th>\n",
              "      <th>Open</th>\n",
              "      <th>Close</th>\n",
              "      <th>Volume</th>\n",
              "      <th>Adj Close</th>\n",
              "    </tr>\n",
              "    <tr>\n",
              "      <th>Date</th>\n",
              "      <th></th>\n",
              "      <th></th>\n",
              "      <th></th>\n",
              "      <th></th>\n",
              "      <th></th>\n",
              "      <th></th>\n",
              "    </tr>\n",
              "  </thead>\n",
              "  <tbody>\n",
              "    <tr>\n",
              "      <th>2000-01-03</th>\n",
              "      <td>49.258816</td>\n",
              "      <td>47.816505</td>\n",
              "      <td>49.038460</td>\n",
              "      <td>48.076923</td>\n",
              "      <td>22952500.0</td>\n",
              "      <td>26.190701</td>\n",
              "    </tr>\n",
              "    <tr>\n",
              "      <th>2000-01-04</th>\n",
              "      <td>47.435898</td>\n",
              "      <td>46.153847</td>\n",
              "      <td>47.195515</td>\n",
              "      <td>46.153847</td>\n",
              "      <td>23006200.0</td>\n",
              "      <td>25.143076</td>\n",
              "    </tr>\n",
              "    <tr>\n",
              "      <th>2000-01-05</th>\n",
              "      <td>47.115383</td>\n",
              "      <td>45.693108</td>\n",
              "      <td>46.073719</td>\n",
              "      <td>46.073719</td>\n",
              "      <td>28384500.0</td>\n",
              "      <td>25.099417</td>\n",
              "    </tr>\n",
              "    <tr>\n",
              "      <th>2000-01-06</th>\n",
              "      <td>47.095352</td>\n",
              "      <td>45.713142</td>\n",
              "      <td>45.873398</td>\n",
              "      <td>46.689705</td>\n",
              "      <td>20668100.0</td>\n",
              "      <td>25.434988</td>\n",
              "    </tr>\n",
              "    <tr>\n",
              "      <th>2000-01-07</th>\n",
              "      <td>48.677883</td>\n",
              "      <td>47.115383</td>\n",
              "      <td>47.435898</td>\n",
              "      <td>48.497597</td>\n",
              "      <td>20947000.0</td>\n",
              "      <td>26.419868</td>\n",
              "    </tr>\n",
              "  </tbody>\n",
              "</table>\n",
              "</div>"
            ],
            "text/plain": [
              "                 High        Low       Open      Close      Volume  Adj Close\n",
              "Date                                                                         \n",
              "2000-01-03  49.258816  47.816505  49.038460  48.076923  22952500.0  26.190701\n",
              "2000-01-04  47.435898  46.153847  47.195515  46.153847  23006200.0  25.143076\n",
              "2000-01-05  47.115383  45.693108  46.073719  46.073719  28384500.0  25.099417\n",
              "2000-01-06  47.095352  45.713142  45.873398  46.689705  20668100.0  25.434988\n",
              "2000-01-07  48.677883  47.115383  47.435898  48.497597  20947000.0  26.419868"
            ]
          },
          "metadata": {
            "tags": []
          },
          "execution_count": 12
        }
      ]
    },
    {
      "cell_type": "code",
      "metadata": {
        "colab": {
          "base_uri": "https://localhost:8080/"
        },
        "id": "4mKYk8sUS_Xx",
        "outputId": "620df3db-9ef4-4cab-c42b-0c380543bf7a"
      },
      "source": [
        "df.shape"
      ],
      "execution_count": 13,
      "outputs": [
        {
          "output_type": "execute_result",
          "data": {
            "text/plain": [
              "(5263, 6)"
            ]
          },
          "metadata": {
            "tags": []
          },
          "execution_count": 13
        }
      ]
    },
    {
      "cell_type": "code",
      "metadata": {
        "colab": {
          "base_uri": "https://localhost:8080/"
        },
        "id": "r_WzYYJWSTKc",
        "outputId": "e618fb56-58a7-4d74-afa6-3f566c9c80d1"
      },
      "source": [
        "df.info()"
      ],
      "execution_count": 14,
      "outputs": [
        {
          "output_type": "stream",
          "text": [
            "<class 'pandas.core.frame.DataFrame'>\n",
            "DatetimeIndex: 5263 entries, 2000-01-03 to 2020-12-01\n",
            "Data columns (total 6 columns):\n",
            " #   Column     Non-Null Count  Dtype  \n",
            "---  ------     --------------  -----  \n",
            " 0   High       5263 non-null   float64\n",
            " 1   Low        5263 non-null   float64\n",
            " 2   Open       5263 non-null   float64\n",
            " 3   Close      5263 non-null   float64\n",
            " 4   Volume     5263 non-null   float64\n",
            " 5   Adj Close  5263 non-null   float64\n",
            "dtypes: float64(6)\n",
            "memory usage: 287.8 KB\n"
          ],
          "name": "stdout"
        }
      ]
    },
    {
      "cell_type": "code",
      "metadata": {
        "colab": {
          "base_uri": "https://localhost:8080/"
        },
        "id": "TpdTKIf6STOe",
        "outputId": "a60e3a72-eb24-4e95-9eab-8d8ecb63e601"
      },
      "source": [
        "df.index"
      ],
      "execution_count": 15,
      "outputs": [
        {
          "output_type": "execute_result",
          "data": {
            "text/plain": [
              "DatetimeIndex(['2000-01-03', '2000-01-04', '2000-01-05', '2000-01-06',\n",
              "               '2000-01-07', '2000-01-10', '2000-01-11', '2000-01-12',\n",
              "               '2000-01-13', '2000-01-14',\n",
              "               ...\n",
              "               '2020-11-17', '2020-11-18', '2020-11-19', '2020-11-20',\n",
              "               '2020-11-23', '2020-11-24', '2020-11-25', '2020-11-27',\n",
              "               '2020-11-30', '2020-12-01'],\n",
              "              dtype='datetime64[ns]', name='Date', length=5263, freq=None)"
            ]
          },
          "metadata": {
            "tags": []
          },
          "execution_count": 15
        }
      ]
    },
    {
      "cell_type": "code",
      "metadata": {
        "colab": {
          "base_uri": "https://localhost:8080/",
          "height": 383
        },
        "id": "WAVJwUEXSTQU",
        "outputId": "52f942a9-2f95-4fc2-82b2-1220a44b9259"
      },
      "source": [
        "plt.figure(figsize=(16,6))\r\n",
        "\r\n",
        "df[\"Close\"].plot(label=\"Close\")\r\n",
        "#df[\"Open\"].plot(label=\"Open\")\r\n",
        "\r\n",
        "plt.title(\" Close -Price\")\r\n",
        "\r\n",
        "plt.ylabel(\"GE's stock price\")\r\n",
        "plt.legend();"
      ],
      "execution_count": 19,
      "outputs": [
        {
          "output_type": "display_data",
          "data": {
            "image/png": "[encoded data removed]",
            "text/plain": [
              "<Figure size 1152x432 with 1 Axes>"
            ]
          },
          "metadata": {
            "tags": [],
            "needs_background": "light"
          }
        }
      ]
    },
    {
      "cell_type": "markdown",
      "metadata": {
        "id": "RMczqhuyV82F"
      },
      "source": [
        "Train , Test Data "
      ]
    },
    {
      "cell_type": "code",
      "metadata": {
        "id": "v5urNOmsWNd4"
      },
      "source": [
        "df =df.filter([\"Close\"])"
      ],
      "execution_count": 20,
      "outputs": []
    },
    {
      "cell_type": "code",
      "metadata": {
        "id": "0bhYI3YRSTWT"
      },
      "source": [
        "train, test = df[df.index <= '2012-12-31'], df[df.index > '2012-12-31']"
      ],
      "execution_count": 25,
      "outputs": []
    },
    {
      "cell_type": "code",
      "metadata": {
        "colab": {
          "base_uri": "https://localhost:8080/"
        },
        "id": "5D0A3aLXSTYi",
        "outputId": "b56ab711-bd38-4d30-eac0-1db3c2630d95"
      },
      "source": [
        "train.shape, test.shape"
      ],
      "execution_count": 30,
      "outputs": [
        {
          "output_type": "execute_result",
          "data": {
            "text/plain": [
              "((3269, 1), (1994, 1))"
            ]
          },
          "metadata": {
            "tags": []
          },
          "execution_count": 30
        }
      ]
    },
    {
      "cell_type": "markdown",
      "metadata": {
        "id": "N2AwYjM9XUiJ"
      },
      "source": [
        "Normalization"
      ]
    },
    {
      "cell_type": "code",
      "metadata": {
        "colab": {
          "base_uri": "https://localhost:8080/"
        },
        "id": "l1l7ZiIASTb-",
        "outputId": "84f9f861-e4c3-453f-9ea4-facbaa1b84d2"
      },
      "source": [
        "scale = MinMaxScaler()\r\n",
        "\r\n",
        "train_data = scale.fit_transform(train)\r\n",
        "train_data[:5]"
      ],
      "execution_count": 31,
      "outputs": [
        {
          "output_type": "execute_result",
          "data": {
            "text/plain": [
              "array([[0.81252346],\n",
              "       [0.77502815],\n",
              "       [0.77346585],\n",
              "       [0.78547608],\n",
              "       [0.82072556]])"
            ]
          },
          "metadata": {
            "tags": []
          },
          "execution_count": 31
        }
      ]
    },
    {
      "cell_type": "code",
      "metadata": {
        "colab": {
          "base_uri": "https://localhost:8080/"
        },
        "id": "xbdtaLgjYO7M",
        "outputId": "52217175-42c3-49a1-91f0-0df221cff30c"
      },
      "source": [
        "train_data.shape"
      ],
      "execution_count": 32,
      "outputs": [
        {
          "output_type": "execute_result",
          "data": {
            "text/plain": [
              "(3269, 1)"
            ]
          },
          "metadata": {
            "tags": []
          },
          "execution_count": 32
        }
      ]
    },
    {
      "cell_type": "code",
      "metadata": {
        "colab": {
          "base_uri": "https://localhost:8080/"
        },
        "id": "oeNwbi4VYR2q",
        "outputId": "45ea0a8e-eb76-42b0-bc3a-d37e5d952166"
      },
      "source": [
        "test_data = scale.fit_transform(test)\r\n",
        "test_data[:5]"
      ],
      "execution_count": 33,
      "outputs": [
        {
          "output_type": "execute_result",
          "data": {
            "text/plain": [
              "array([[0.57421636],\n",
              "       [0.56539949],\n",
              "       [0.56907318],\n",
              "       [0.56650162],\n",
              "       [0.55805203]])"
            ]
          },
          "metadata": {
            "tags": []
          },
          "execution_count": 33
        }
      ]
    },
    {
      "cell_type": "code",
      "metadata": {
        "colab": {
          "base_uri": "https://localhost:8080/"
        },
        "id": "0O3w2pdXYR5k",
        "outputId": "28efe57e-316c-466b-c8ea-f271342c9474"
      },
      "source": [
        "test_data.shape"
      ],
      "execution_count": 34,
      "outputs": [
        {
          "output_type": "execute_result",
          "data": {
            "text/plain": [
              "(1994, 1)"
            ]
          },
          "metadata": {
            "tags": []
          },
          "execution_count": 34
        }
      ]
    },
    {
      "cell_type": "markdown",
      "metadata": {
        "id": "p2JT2sYVXoGU"
      },
      "source": [
        "LSTM form"
      ]
    },
    {
      "cell_type": "code",
      "metadata": {
        "id": "dTwcQCbSSTe0"
      },
      "source": [
        "X_train = []\r\n",
        "y_train = []\r\n",
        "\r\n",
        "timesteps =30\r\n",
        "\r\n",
        "for i in range(timesteps, train_data.shape[0]):\r\n",
        "    X_train.append(train_data[i-timesteps:i])\r\n",
        "    y_train.append(train_data[i, 0])"
      ],
      "execution_count": 37,
      "outputs": []
    },
    {
      "cell_type": "code",
      "metadata": {
        "colab": {
          "base_uri": "https://localhost:8080/"
        },
        "id": "uJDJMDjOSTjr",
        "outputId": "db279f47-feb1-413c-e736-8dbe07b89027"
      },
      "source": [
        "X_train, y_train = np.array(X_train), np.array(y_train)\r\n",
        "\r\n",
        "X_train.shape, y_train.shape"
      ],
      "execution_count": 38,
      "outputs": [
        {
          "output_type": "execute_result",
          "data": {
            "text/plain": [
              "((3239, 30, 1), (3239,))"
            ]
          },
          "metadata": {
            "tags": []
          },
          "execution_count": 38
        }
      ]
    },
    {
      "cell_type": "code",
      "metadata": {
        "id": "njQkm4j1STlM"
      },
      "source": [
        "X_test = []\r\n",
        "y_test = []\r\n",
        "\r\n",
        "timesteps =30\r\n",
        "\r\n",
        "for i in range(timesteps, test_data.shape[0]):\r\n",
        "    X_test.append(test_data[i-timesteps:i])\r\n",
        "    y_test.append(test_data[i, 0])"
      ],
      "execution_count": 39,
      "outputs": []
    },
    {
      "cell_type": "code",
      "metadata": {
        "colab": {
          "base_uri": "https://localhost:8080/"
        },
        "id": "Xi7WxJtgSTpE",
        "outputId": "c04c80fb-26b4-41f0-94f3-5fec5f009ad2"
      },
      "source": [
        "X_test, y_test = np.array(X_test), np.array(y_test)\r\n",
        "\r\n",
        "X_test.shape , y_test.shape"
      ],
      "execution_count": 40,
      "outputs": [
        {
          "output_type": "execute_result",
          "data": {
            "text/plain": [
              "((1964, 30, 1), (1964,))"
            ]
          },
          "metadata": {
            "tags": []
          },
          "execution_count": 40
        }
      ]
    },
    {
      "cell_type": "markdown",
      "metadata": {
        "id": "8LL499v4Z-jv"
      },
      "source": [
        "Early stopping"
      ]
    },
    {
      "cell_type": "code",
      "metadata": {
        "id": "OmD9a2rKSTsB"
      },
      "source": [
        "earlystop = EarlyStopping(monitor='val_loss',\r\n",
        "                          min_delta=0,\r\n",
        "                          patience=2,\r\n",
        "                          verbose=1,\r\n",
        "                          restore_best_weights=True\r\n",
        "                          )\r\n",
        "\r\n",
        "reduce_lr = ReduceLROnPlateau(monitor='val_loss',\r\n",
        "                              factor=0.2,\r\n",
        "                              patience=2,\r\n",
        "                              verbose=1,\r\n",
        "                              min_delta=0.0001)\r\n",
        "\r\n",
        "\r\n",
        "callbacks = [earlystop,reduce_lr]"
      ],
      "execution_count": 43,
      "outputs": []
    },
    {
      "cell_type": "markdown",
      "metadata": {
        "id": "-6aGDdGHbeVO"
      },
      "source": [
        "LSTM Model"
      ]
    },
    {
      "cell_type": "code",
      "metadata": {
        "id": "__zI4pXIaZw0"
      },
      "source": [
        "model = Sequential()\r\n",
        "model.add(LSTM(120, activation='relu', input_shape=(X_train.shape[1], X_train.shape[2]), return_sequences=True))\r\n",
        "model.add(LSTM(60, activation='relu', return_sequences=False))\r\n",
        "model.add(RepeatVector(X_train.shape[1]))\r\n",
        "model.add(LSTM(60, activation='relu', return_sequences=True))\r\n",
        "model.add(LSTM(120, activation='relu', return_sequences=True))\r\n",
        "model.add(TimeDistributed(Dense(X_train.shape[2])))\r\n",
        "\r\n",
        "\r\n",
        "model.compile( loss = \"mean_squared_error\", optimizer = \"adam\")"
      ],
      "execution_count": 44,
      "outputs": []
    },
    {
      "cell_type": "code",
      "metadata": {
        "colab": {
          "base_uri": "https://localhost:8080/"
        },
        "id": "zlcuXWxFZ1mw",
        "outputId": "d279ad68-7d84-491a-81de-fcba5ad5f2e9"
      },
      "source": [
        "print(model.summary())"
      ],
      "execution_count": 45,
      "outputs": [
        {
          "output_type": "stream",
          "text": [
            "Model: \"sequential\"\n",
            "_________________________________________________________________\n",
            "Layer (type)                 Output Shape              Param #   \n",
            "=================================================================\n",
            "lstm (LSTM)                  (None, 30, 120)           58560     \n",
            "_________________________________________________________________\n",
            "lstm_1 (LSTM)                (None, 60)                43440     \n",
            "_________________________________________________________________\n",
            "repeat_vector (RepeatVector) (None, 30, 60)            0         \n",
            "_________________________________________________________________\n",
            "lstm_2 (LSTM)                (None, 30, 60)            29040     \n",
            "_________________________________________________________________\n",
            "lstm_3 (LSTM)                (None, 30, 120)           86880     \n",
            "_________________________________________________________________\n",
            "time_distributed (TimeDistri (None, 30, 1)             121       \n",
            "=================================================================\n",
            "Total params: 218,041\n",
            "Trainable params: 218,041\n",
            "Non-trainable params: 0\n",
            "_________________________________________________________________\n",
            "None\n"
          ],
          "name": "stdout"
        }
      ]
    },
    {
      "cell_type": "code",
      "metadata": {
        "colab": {
          "base_uri": "https://localhost:8080/"
        },
        "id": "6NAJa3qBZ1r6",
        "outputId": "5e123fab-73bd-4a83-f92a-973a876d101e"
      },
      "source": [
        "history = model.fit(X_train, y_train, epochs=25, batch_size=20,shuffle = True,\r\n",
        "                    callbacks=callbacks , validation_split=0.3)"
      ],
      "execution_count": 46,
      "outputs": [
        {
          "output_type": "stream",
          "text": [
            "Epoch 1/25\n",
            "114/114 [==============================] - 15s 95ms/step - loss: 0.1042 - val_loss: 0.0095\n",
            "Epoch 2/25\n",
            "114/114 [==============================] - 10s 89ms/step - loss: 0.0048 - val_loss: 0.0029\n",
            "Epoch 3/25\n",
            "114/114 [==============================] - 10s 90ms/step - loss: 0.0014 - val_loss: 9.8129e-04\n",
            "Epoch 4/25\n",
            "114/114 [==============================] - 10s 90ms/step - loss: 0.0013 - val_loss: 6.2103e-04\n",
            "Epoch 5/25\n",
            "114/114 [==============================] - 10s 90ms/step - loss: 9.8597e-04 - val_loss: 5.5921e-04\n",
            "Epoch 6/25\n",
            "114/114 [==============================] - 10s 90ms/step - loss: 8.7123e-04 - val_loss: 7.7787e-04\n",
            "\n",
            "Epoch 00006: ReduceLROnPlateau reducing learning rate to 0.00020000000949949026.\n",
            "Epoch 7/25\n",
            "114/114 [==============================] - 10s 90ms/step - loss: 7.1464e-04 - val_loss: 7.1067e-04\n",
            "Restoring model weights from the end of the best epoch.\n",
            "Epoch 00007: early stopping\n"
          ],
          "name": "stdout"
        }
      ]
    },
    {
      "cell_type": "markdown",
      "metadata": {
        "id": "zdWVlIF4dm59"
      },
      "source": [
        "Prediction"
      ]
    },
    {
      "cell_type": "code",
      "metadata": {
        "id": "UKenMWZxZ1uC"
      },
      "source": [
        "y_pred = model.predict(X_test)"
      ],
      "execution_count": 51,
      "outputs": []
    },
    {
      "cell_type": "code",
      "metadata": {
        "colab": {
          "base_uri": "https://localhost:8080/"
        },
        "id": "1vzMAzBJfKrL",
        "outputId": "b65c3d59-660c-4fa2-bc40-3b3b452bca36"
      },
      "source": [
        "y_pred.shape"
      ],
      "execution_count": 53,
      "outputs": [
        {
          "output_type": "execute_result",
          "data": {
            "text/plain": [
              "(1964, 30, 1)"
            ]
          },
          "metadata": {
            "tags": []
          },
          "execution_count": 53
        }
      ]
    },
    {
      "cell_type": "markdown",
      "metadata": {
        "id": "jYAECvwedpcr"
      },
      "source": [
        "Accuracy"
      ]
    },
    {
      "cell_type": "code",
      "metadata": {
        "colab": {
          "base_uri": "https://localhost:8080/",
          "height": 295
        },
        "id": "IAN_AAtMZ10_",
        "outputId": "aac38236-b61b-484a-9d52-25277a313645"
      },
      "source": [
        "def plot_learningCurve(history):\r\n",
        "  # Plot training & validation accuracy values\r\n",
        "    epoch_range = range(1, len(history.epoch) +1)\r\n",
        "    # plt.plot(epoch_range, history.history['accuracy'])\r\n",
        "    # plt.plot(epoch_range, history.history['val_accuracy'])\r\n",
        "    # plt.title('Model accuracy')\r\n",
        "    # plt.ylabel('Accuracy')\r\n",
        "    # plt.xlabel('Epoch')\r\n",
        "    # plt.legend(['Train', 'Val'], loc='upper left')\r\n",
        "    # plt.show()\r\n",
        "\r\n",
        "  # Plot training & validation loss values\r\n",
        "    plt.plot(epoch_range, history.history['loss'])\r\n",
        "    plt.plot(epoch_range, history.history['val_loss'])\r\n",
        "    plt.title('Model loss')\r\n",
        "    plt.ylabel('Loss')\r\n",
        "    plt.xlabel('Epoch')\r\n",
        "    plt.legend(['Train', 'Val'], loc='upper left')\r\n",
        "    plt.show()\r\n",
        "\r\n",
        "\r\n",
        "plot_learningCurve(history)"
      ],
      "execution_count": 48,
      "outputs": [
        {
          "output_type": "display_data",
          "data": {
            "image/png": "[encoded data removed]",
            "text/plain": [
              "<Figure size 432x288 with 1 Axes>"
            ]
          },
          "metadata": {
            "tags": [],
            "needs_background": "light"
          }
        }
      ]
    },
    {
      "cell_type": "code",
      "metadata": {
        "id": "j1g12KQ9Z14j"
      },
      "source": [
        ""
      ],
      "execution_count": null,
      "outputs": []
    },
    {
      "cell_type": "markdown",
      "metadata": {
        "id": "He1ERQlogk2Q"
      },
      "source": [
        "Train data"
      ]
    },
    {
      "cell_type": "code",
      "metadata": {
        "colab": {
          "base_uri": "https://localhost:8080/",
          "height": 265
        },
        "id": "iS3xZ5jPZ16c",
        "outputId": "8f9faa16-4282-4bc0-b00f-f126734c719d"
      },
      "source": [
        "trainPredict = model.predict(X_train)\r\n",
        "trainMAE = np.mean(np.abs(trainPredict - X_train), axis=1)\r\n",
        "plt.hist(trainMAE, bins=30,label=\"MAE\");"
      ],
      "execution_count": 71,
      "outputs": [
        {
          "output_type": "display_data",
          "data": {
            "image/png": "[encoded data removed]",
            "text/plain": [
              "<Figure size 432x288 with 1 Axes>"
            ]
          },
          "metadata": {
            "tags": [],
            "needs_background": "light"
          }
        }
      ]
    },
    {
      "cell_type": "code",
      "metadata": {
        "colab": {
          "base_uri": "https://localhost:8080/",
          "height": 265
        },
        "id": "sJzbA7irZ1-c",
        "outputId": "958464aa-00c1-4d78-cfe6-9e0e5d5ae7ef"
      },
      "source": [
        "testPredict = model.predict(X_test)\r\n",
        "testMAE = np.mean(np.abs(testPredict - X_test), axis=1)\r\n",
        "plt.hist(testMAE, bins=30);"
      ],
      "execution_count": 57,
      "outputs": [
        {
          "output_type": "display_data",
          "data": {
            "image/png": "[encoded data removed]",
            "text/plain": [
              "<Figure size 432x288 with 1 Axes>"
            ]
          },
          "metadata": {
            "tags": [],
            "needs_background": "light"
          }
        }
      ]
    },
    {
      "cell_type": "markdown",
      "metadata": {
        "id": "yFX8EJqylRmY"
      },
      "source": [
        "Anomaly detection"
      ]
    },
    {
      "cell_type": "code",
      "metadata": {
        "id": "RDiBmAtClYFs"
      },
      "source": [
        "max_trainMAE = 0.045  #or Define 90% value of max as threshold."
      ],
      "execution_count": 83,
      "outputs": []
    },
    {
      "cell_type": "code",
      "metadata": {
        "colab": {
          "base_uri": "https://localhost:8080/"
        },
        "id": "Uqny7MefZ2KD",
        "outputId": "2a048bfa-a036-4689-e824-b91522696e90"
      },
      "source": [
        "testMAE.shape"
      ],
      "execution_count": 76,
      "outputs": [
        {
          "output_type": "execute_result",
          "data": {
            "text/plain": [
              "(1964, 1)"
            ]
          },
          "metadata": {
            "tags": []
          },
          "execution_count": 76
        }
      ]
    },
    {
      "cell_type": "code",
      "metadata": {
        "colab": {
          "base_uri": "https://localhost:8080/"
        },
        "id": "znHfNav4Z2L6",
        "outputId": "6addce41-c574-40ac-82b0-246105a11118"
      },
      "source": [
        "anomaly_df = pd.DataFrame(test[timesteps:])\r\n",
        "anomaly_df.shape"
      ],
      "execution_count": 78,
      "outputs": [
        {
          "output_type": "execute_result",
          "data": {
            "text/plain": [
              "(1964, 1)"
            ]
          },
          "metadata": {
            "tags": []
          },
          "execution_count": 78
        }
      ]
    },
    {
      "cell_type": "code",
      "metadata": {
        "id": "zd_15h5NZ2R0"
      },
      "source": [
        "anomaly_df['testMAE'] = testMAE\r\n",
        "anomaly_df['max_trainMAE'] = max_trainMAE\r\n",
        "anomaly_df['anomaly'] = anomaly_df['testMAE'] > anomaly_df['max_trainMAE']"
      ],
      "execution_count": 84,
      "outputs": []
    },
    {
      "cell_type": "code",
      "metadata": {
        "colab": {
          "base_uri": "https://localhost:8080/",
          "height": 235
        },
        "id": "t54LvVGfZ2Vn",
        "outputId": "f8208f76-9d47-4dba-8e48-7757ab96e404"
      },
      "source": [
        "anomaly_df.head()"
      ],
      "execution_count": 85,
      "outputs": [
        {
          "output_type": "execute_result",
          "data": {
            "text/html": [
              "<div>\n",
              "<style scoped>\n",
              "    .dataframe tbody tr th:only-of-type {\n",
              "        vertical-align: middle;\n",
              "    }\n",
              "\n",
              "    .dataframe tbody tr th {\n",
              "        vertical-align: top;\n",
              "    }\n",
              "\n",
              "    .dataframe thead th {\n",
              "        text-align: right;\n",
              "    }\n",
              "</style>\n",
              "<table border=\"1\" class=\"dataframe\">\n",
              "  <thead>\n",
              "    <tr style=\"text-align: right;\">\n",
              "      <th></th>\n",
              "      <th>Close</th>\n",
              "      <th>testMAE</th>\n",
              "      <th>max_trainMAE</th>\n",
              "      <th>anomaly</th>\n",
              "    </tr>\n",
              "    <tr>\n",
              "      <th>Date</th>\n",
              "      <th></th>\n",
              "      <th></th>\n",
              "      <th></th>\n",
              "      <th></th>\n",
              "    </tr>\n",
              "  </thead>\n",
              "  <tbody>\n",
              "    <tr>\n",
              "      <th>2013-02-14</th>\n",
              "      <td>22.509615</td>\n",
              "      <td>0.039238</td>\n",
              "      <td>0.045</td>\n",
              "      <td>False</td>\n",
              "    </tr>\n",
              "    <tr>\n",
              "      <th>2013-02-15</th>\n",
              "      <td>22.394230</td>\n",
              "      <td>0.040410</td>\n",
              "      <td>0.045</td>\n",
              "      <td>False</td>\n",
              "    </tr>\n",
              "    <tr>\n",
              "      <th>2013-02-19</th>\n",
              "      <td>22.836538</td>\n",
              "      <td>0.040843</td>\n",
              "      <td>0.045</td>\n",
              "      <td>False</td>\n",
              "    </tr>\n",
              "    <tr>\n",
              "      <th>2013-02-20</th>\n",
              "      <td>22.509615</td>\n",
              "      <td>0.042113</td>\n",
              "      <td>0.045</td>\n",
              "      <td>False</td>\n",
              "    </tr>\n",
              "    <tr>\n",
              "      <th>2013-02-21</th>\n",
              "      <td>22.365385</td>\n",
              "      <td>0.042462</td>\n",
              "      <td>0.045</td>\n",
              "      <td>False</td>\n",
              "    </tr>\n",
              "  </tbody>\n",
              "</table>\n",
              "</div>"
            ],
            "text/plain": [
              "                Close   testMAE  max_trainMAE  anomaly\n",
              "Date                                                  \n",
              "2013-02-14  22.509615  0.039238         0.045    False\n",
              "2013-02-15  22.394230  0.040410         0.045    False\n",
              "2013-02-19  22.836538  0.040843         0.045    False\n",
              "2013-02-20  22.509615  0.042113         0.045    False\n",
              "2013-02-21  22.365385  0.042462         0.045    False"
            ]
          },
          "metadata": {
            "tags": []
          },
          "execution_count": 85
        }
      ]
    },
    {
      "cell_type": "code",
      "metadata": {
        "id": "qiAVGdn7Z2Xa"
      },
      "source": [
        "# anomaly_df['Close'] = test[timesteps:]['Close']\r\n",
        "\r\n",
        "# anomaly_df.head()"
      ],
      "execution_count": 92,
      "outputs": []
    },
    {
      "cell_type": "markdown",
      "metadata": {
        "id": "ULX1qGRMmbss"
      },
      "source": [
        "Plot testMAE vs max_trainMAE"
      ]
    },
    {
      "cell_type": "code",
      "metadata": {
        "colab": {
          "base_uri": "https://localhost:8080/",
          "height": 350
        },
        "id": "t4b6tgXuZ2d0",
        "outputId": "c7848e89-65ea-4a61-9c81-74d21a97f6d1"
      },
      "source": [
        "plt.figure(figsize=(12,5))\r\n",
        "\r\n",
        "sns.lineplot(x=anomaly_df.index, y=anomaly_df['testMAE'])\r\n",
        "sns.lineplot(x=anomaly_df.index, y=anomaly_df['max_trainMAE']);\r\n",
        "\r\n",
        "plt.title('Anomaly detection');"
      ],
      "execution_count": 98,
      "outputs": [
        {
          "output_type": "display_data",
          "data": {
            "image/png": "[encoded data removed]",
            "text/plain": [
              "<Figure size 864x360 with 1 Axes>"
            ]
          },
          "metadata": {
            "tags": [],
            "needs_background": "light"
          }
        }
      ]
    },
    {
      "cell_type": "markdown",
      "metadata": {
        "id": "oOhdU39ondIc"
      },
      "source": [
        "Plot anomalies"
      ]
    },
    {
      "cell_type": "code",
      "metadata": {
        "id": "5YBuxrthoWbO"
      },
      "source": [
        "anomalies = anomaly_df.loc[anomaly_df['anomaly'] == True]"
      ],
      "execution_count": null,
      "outputs": []
    },
    {
      "cell_type": "code",
      "metadata": {
        "id": "guu3jzCPolbt"
      },
      "source": [
        "anomaly_y =scale.inverse_transform(np.array(anomaly_df['Close']).reshape(-1, 1))\r\n",
        "\r\n",
        "anomaly_y = anomaly_y.reshape( -1)\r\n",
        "\r\n",
        "anomalies_y =scale.inverse_transform(np.array(anomalies['Close']).reshape(-1, 1))\r\n",
        "\r\n",
        "anomalies_y = anomalies_y.reshape( -1)"
      ],
      "execution_count": 114,
      "outputs": []
    },
    {
      "cell_type": "code",
      "metadata": {
        "colab": {
          "base_uri": "https://localhost:8080/",
          "height": 458
        },
        "id": "LUofIilUnYnY",
        "outputId": "d5e0afa3-73be-49ff-de8a-adf6694c5541"
      },
      "source": [
        "#Plot anomalies\r\n",
        "plt.figure(figsize=(16,7))\r\n",
        "\r\n",
        "sns.lineplot(x=anomaly_df.index, y=anomaly_y, label=\"Close value\")\r\n",
        "sns.scatterplot(x=anomalies.index, y=anomalies_y, label=\"anomalies\" ,color='r')\r\n",
        "\r\n",
        "plt.title('Anomaly vs good data'); "
      ],
      "execution_count": 127,
      "outputs": [
        {
          "output_type": "display_data",
          "data": {
            "image/png": "[encoded data removed]",
            "text/plain": [
              "<Figure size 1152x504 with 1 Axes>"
            ]
          },
          "metadata": {
            "tags": [],
            "needs_background": "light"
          }
        }
      ]
    },
    {
      "cell_type": "code",
      "metadata": {
        "id": "wfliEO_cnYqx"
      },
      "source": [
        ""
      ],
      "execution_count": null,
      "outputs": []
    },
    {
      "cell_type": "code",
      "metadata": {
        "id": "3QAHza15nYs3"
      },
      "source": [
        ""
      ],
      "execution_count": null,
      "outputs": []
    },
    {
      "cell_type": "code",
      "metadata": {
        "id": "MRY4G-rCnYwt"
      },
      "source": [
        ""
      ],
      "execution_count": null,
      "outputs": []
    }
  ]
}